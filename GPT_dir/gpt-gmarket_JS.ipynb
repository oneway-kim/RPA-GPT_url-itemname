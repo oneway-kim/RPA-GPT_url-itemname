{
 "cells": [
  {
   "cell_type": "code",
   "execution_count": null,
   "id": "1cf7e3e6-5e88-40d8-9b08-d81981716a9d",
   "metadata": {},
   "outputs": [],
   "source": [
    "from selenium import webdriver\n",
    "from selenium.webdriver.chrome.service import Service\n",
    "from webdriver_manager.chrome import ChromeDriverManager\n",
    "from selenium.webdriver.common.by import By"
   ]
  },
  {
   "cell_type": "code",
   "execution_count": null,
   "id": "e12a53d5-71fb-47e7-9db4-062d46ba2445",
   "metadata": {},
   "outputs": [],
   "source": [
    "# Setup chrome options\n",
    "chrome_options = webdriver.ChromeOptions()\n",
    "chrome_options.add_argument(\"--start-maximized\")\n",
    "\n",
    "# Setup webdriver\n",
    "wd = webdriver.Chrome(service=Service(ChromeDriverManager().install()), options=chrome_options)\n",
    "\n",
    "# Navigate to the Gmarket's best items page\n",
    "wd.get(\"https://www.gmarket.co.kr/n/best\")\n",
    "\n",
    "# Wait for the page to load completely\n",
    "wd.implicitly_wait(10)"
   ]
  },
  {
   "cell_type": "code",
   "execution_count": null,
   "id": "97ad3d9f-2d0d-48bc-97db-3c6578c70f97",
   "metadata": {},
   "outputs": [],
   "source": [
    "# Find all 'a' elements with class='itemname'\n",
    "elements = wd.find_elements(By.CSS_SELECTOR, \"a.itemname\")\n",
    "\n",
    "# Extract and print the text of each element\n",
    "for element in elements:\n",
    "    print(element.text)\n",
    "\n",
    "# Close the browser\n",
    "wd.quit()"
   ]
  },
  {
   "cell_type": "code",
   "execution_count": null,
   "id": "e78774e5-9a25-489d-a1c1-695bc3fa2555",
   "metadata": {},
   "outputs": [],
   "source": []
  },
  {
   "cell_type": "code",
   "execution_count": 1,
   "id": "7e2c85ed-53fc-4b77-83f1-c52fca264984",
   "metadata": {},
   "outputs": [
    {
     "name": "stderr",
     "output_type": "stream",
     "text": [
      "C:\\Users\\GDW\\anaconda3\\lib\\site-packages\\pandas\\util\\_decorators.py:211: FutureWarning: the 'encoding' keyword is deprecated and will be removed in a future version. Please take steps to stop the use of 'encoding'\n",
      "  return func(*args, **kwargs)\n"
     ]
    }
   ],
   "source": [
    "from selenium import webdriver\n",
    "from selenium.webdriver.chrome.service import Service\n",
    "from webdriver_manager.chrome import ChromeDriverManager\n",
    "from bs4 import BeautifulSoup\n",
    "import pandas as pd\n",
    "\n",
    "# Setup chrome options\n",
    "chrome_options = webdriver.ChromeOptions()\n",
    "\n",
    "# Setup webdriver\n",
    "wd = webdriver.Chrome(service=Service(ChromeDriverManager().install()), options=chrome_options)\n",
    "\n",
    "# Navigate to the website\n",
    "wd.get(\"https://www.gmarket.co.kr/n/best\")\n",
    "\n",
    "# Parse the webpage with BeautifulSoup\n",
    "soup = BeautifulSoup(wd.page_source, \"html.parser\")\n",
    "\n",
    "# Close the webdriver\n",
    "wd.quit()\n",
    "\n",
    "# Find all 'a' elements with class 'itemname'\n",
    "elements = soup.find_all('a', {'class': 'itemname'})\n",
    "\n",
    "# Extract the data and save it to a list\n",
    "data = []\n",
    "for element in elements:\n",
    "    data.append({\n",
    "        'Link': element.get('href'),\n",
    "        'Text': element.text.strip()\n",
    "    })\n",
    "\n",
    "# Convert the list to a DataFrame\n",
    "df = pd.DataFrame(data)\n",
    "\n",
    "# Save the DataFrame to an Excel file\n",
    "df.to_excel('gmarket_best_items.xlsx', index=False, encoding='utf-16')\n"
   ]
  },
  {
   "cell_type": "code",
   "execution_count": null,
   "id": "65b9a646-a271-486c-9ee8-380eda678a52",
   "metadata": {},
   "outputs": [],
   "source": []
  }
 ],
 "metadata": {
  "kernelspec": {
   "display_name": "Python 3 (ipykernel)",
   "language": "python",
   "name": "python3"
  },
  "language_info": {
   "codemirror_mode": {
    "name": "ipython",
    "version": 3
   },
   "file_extension": ".py",
   "mimetype": "text/x-python",
   "name": "python",
   "nbconvert_exporter": "python",
   "pygments_lexer": "ipython3",
   "version": "3.10.9"
  }
 },
 "nbformat": 4,
 "nbformat_minor": 5
}
