{
 "cells": [
  {
   "cell_type": "code",
   "execution_count": 2,
   "id": "23484a20-a43e-4a01-a19f-a9097fc68c38",
   "metadata": {},
   "outputs": [],
   "source": [
    "from selenium import webdriver\n",
    "from selenium.webdriver.chrome.service import Service\n",
    "from webdriver_manager.chrome import ChromeDriverManager\n",
    "from selenium.webdriver.common.by import By\n",
    "import time"
   ]
  },
  {
   "cell_type": "code",
   "execution_count": 8,
   "id": "aec94ddf-4894-4f8e-bcbc-0ce737412b96",
   "metadata": {},
   "outputs": [
    {
     "name": "stderr",
     "output_type": "stream",
     "text": [
      "[WDM] - Downloading: 100%|█████████████████████████████████████████████████████████| 6.30M/6.30M [00:00<00:00, 106MB/s]\n"
     ]
    },
    {
     "name": "stdout",
     "output_type": "stream",
     "text": [
      "The current temperature in Gil-dong, Gangdong-gu is 현재 온도\n",
      "25.7° degrees.\n"
     ]
    }
   ],
   "source": [
    "# Setup chrome options\n",
    "chrome_options = webdriver.ChromeOptions()\n",
    "chrome_options.add_argument(\"--start-maximized\")\n",
    "\n",
    "# Setup webdriver\n",
    "wd = webdriver.Chrome(service=Service(ChromeDriverManager().install()), options=chrome_options)\n",
    "\n",
    "# Navigate to Naver's weather page (you'd replace this with the correct URL)\n",
    "wd.get(\"https://search.naver.com/search.naver?where=nexearch&sm=top_hty&fbm=0&ie=utf8&query=%ED%98%84%EC%9E%AC%EA%B8%B0%EC%98%A8\")\n",
    "\n",
    "# Wait for the page to load completely\n",
    "wd.implicitly_wait(10)\n",
    "\n",
    "# Identify the element containing the temperature\n",
    "# This is just a placeholder; you'd have to inspect the webpage to find the right identifier\n",
    "temperature_element = wd.find_element(By.XPATH,'//*[@id=\"main_pack\"]/section[1]/div[1]/div[2]/div[1]/div[1]/div/div[2]/div/div[1]/div[1]/div[2]/strong')\n",
    "\n",
    "# Extract and print the temperature\n",
    "temperature = temperature_element.text\n",
    "print(f\"The current temperature in Gil-dong, Gangdong-gu is {temperature} degrees.\")\n",
    "\n",
    "time.sleep(5)\n",
    "# Close the browser\n",
    "wd.quit()"
   ]
  },
  {
   "cell_type": "code",
   "execution_count": null,
   "id": "0fc91ce0-fb4b-49d2-9d6e-ce3aa334552d",
   "metadata": {},
   "outputs": [],
   "source": []
  }
 ],
 "metadata": {
  "kernelspec": {
   "display_name": "Python 3 (ipykernel)",
   "language": "python",
   "name": "python3"
  },
  "language_info": {
   "codemirror_mode": {
    "name": "ipython",
    "version": 3
   },
   "file_extension": ".py",
   "mimetype": "text/x-python",
   "name": "python",
   "nbconvert_exporter": "python",
   "pygments_lexer": "ipython3",
   "version": "3.10.9"
  }
 },
 "nbformat": 4,
 "nbformat_minor": 5
}
