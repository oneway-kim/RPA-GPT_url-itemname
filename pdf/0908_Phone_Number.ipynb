{
  "nbformat": 4,
  "nbformat_minor": 0,
  "metadata": {
    "colab": {
      "provenance": [],
      "include_colab_link": true
    },
    "kernelspec": {
      "name": "python3",
      "display_name": "Python 3"
    },
    "language_info": {
      "name": "python"
    }
  },
  "cells": [
    {
      "cell_type": "markdown",
      "metadata": {
        "id": "view-in-github",
        "colab_type": "text"
      },
      "source": [
        "<a href=\"https://colab.research.google.com/github/oneway-kim/RPA-GPT_url-itemname/blob/main/pdf/0908_Phone_Number.ipynb\" target=\"_parent\"><img src=\"https://colab.research.google.com/assets/colab-badge.svg\" alt=\"Open In Colab\"/></a>"
      ]
    },
    {
      "cell_type": "code",
      "execution_count": 36,
      "metadata": {
        "id": "4bSJGY_7Zphu"
      },
      "outputs": [],
      "source": [
        "import pandas as pd\n",
        "import re"
      ]
    },
    {
      "cell_type": "code",
      "source": [
        "df =pd.read_excel('phone-number.xlsx')"
      ],
      "metadata": {
        "id": "jjOTJTjfaMHX"
      },
      "execution_count": 37,
      "outputs": []
    },
    {
      "cell_type": "code",
      "source": [
        "df.head()"
      ],
      "metadata": {
        "colab": {
          "base_uri": "https://localhost:8080/",
          "height": 320
        },
        "id": "6qJYI9gRgjJJ",
        "outputId": "44c19de4-51a4-4e81-dbab-0ff8b72985fd"
      },
      "execution_count": 38,
      "outputs": [
        {
          "output_type": "execute_result",
          "data": {
            "text/plain": [
              "     결제수단 상세 Unnamed: 1           Unnamed: 2 Unnamed: 3 Unnamed: 4 Unnamed: 5  \\\n",
              "0    결제(입금)자        NaN                  코끼리        NaN        NaN        NaN   \n",
              "1       결제수단        NaN                무통장입금        NaN        NaN        NaN   \n",
              "2     결제은행정보        NaN       개구리 /   결제은행변경        NaN        NaN        NaN   \n",
              "3  결제(입금)확인일        NaN  2022-01-11 20:40:42        NaN        NaN        NaN   \n",
              "4      환불 정보        NaN                  NaN        NaN        NaN        NaN   \n",
              "\n",
              "  Unnamed: 6 Unnamed: 7     Unnamed: 8 Unnamed: 9 Unnamed: 10  \\\n",
              "0        NaN        NaN  전자보증보험 서비스 정보        NaN         NaN   \n",
              "1        NaN        NaN            NaN        NaN         NaN   \n",
              "2        NaN        NaN            NaN        NaN         NaN   \n",
              "3        NaN        NaN         입금확인정보        NaN         NaN   \n",
              "4        NaN        NaN            NaN        NaN         NaN   \n",
              "\n",
              "       Unnamed: 11 Unnamed: 12 Unnamed: 13  \n",
              "0   127.0.0.1:8888         NaN         NaN  \n",
              "1              NaN         NaN         NaN  \n",
              "2              NaN         NaN         NaN  \n",
              "3  127.0.0.1:54304         NaN         NaN  \n",
              "4              NaN         NaN         NaN  "
            ],
            "text/html": [
              "\n",
              "  <div id=\"df-fee81ad4-5f0b-4ec9-87d0-ee481f3dd5ae\">\n",
              "    <div class=\"colab-df-container\">\n",
              "      <div>\n",
              "<style scoped>\n",
              "    .dataframe tbody tr th:only-of-type {\n",
              "        vertical-align: middle;\n",
              "    }\n",
              "\n",
              "    .dataframe tbody tr th {\n",
              "        vertical-align: top;\n",
              "    }\n",
              "\n",
              "    .dataframe thead th {\n",
              "        text-align: right;\n",
              "    }\n",
              "</style>\n",
              "<table border=\"1\" class=\"dataframe\">\n",
              "  <thead>\n",
              "    <tr style=\"text-align: right;\">\n",
              "      <th></th>\n",
              "      <th>결제수단 상세</th>\n",
              "      <th>Unnamed: 1</th>\n",
              "      <th>Unnamed: 2</th>\n",
              "      <th>Unnamed: 3</th>\n",
              "      <th>Unnamed: 4</th>\n",
              "      <th>Unnamed: 5</th>\n",
              "      <th>Unnamed: 6</th>\n",
              "      <th>Unnamed: 7</th>\n",
              "      <th>Unnamed: 8</th>\n",
              "      <th>Unnamed: 9</th>\n",
              "      <th>Unnamed: 10</th>\n",
              "      <th>Unnamed: 11</th>\n",
              "      <th>Unnamed: 12</th>\n",
              "      <th>Unnamed: 13</th>\n",
              "    </tr>\n",
              "  </thead>\n",
              "  <tbody>\n",
              "    <tr>\n",
              "      <th>0</th>\n",
              "      <td>결제(입금)자</td>\n",
              "      <td>NaN</td>\n",
              "      <td>코끼리</td>\n",
              "      <td>NaN</td>\n",
              "      <td>NaN</td>\n",
              "      <td>NaN</td>\n",
              "      <td>NaN</td>\n",
              "      <td>NaN</td>\n",
              "      <td>전자보증보험 서비스 정보</td>\n",
              "      <td>NaN</td>\n",
              "      <td>NaN</td>\n",
              "      <td>127.0.0.1:8888</td>\n",
              "      <td>NaN</td>\n",
              "      <td>NaN</td>\n",
              "    </tr>\n",
              "    <tr>\n",
              "      <th>1</th>\n",
              "      <td>결제수단</td>\n",
              "      <td>NaN</td>\n",
              "      <td>무통장입금</td>\n",
              "      <td>NaN</td>\n",
              "      <td>NaN</td>\n",
              "      <td>NaN</td>\n",
              "      <td>NaN</td>\n",
              "      <td>NaN</td>\n",
              "      <td>NaN</td>\n",
              "      <td>NaN</td>\n",
              "      <td>NaN</td>\n",
              "      <td>NaN</td>\n",
              "      <td>NaN</td>\n",
              "      <td>NaN</td>\n",
              "    </tr>\n",
              "    <tr>\n",
              "      <th>2</th>\n",
              "      <td>결제은행정보</td>\n",
              "      <td>NaN</td>\n",
              "      <td>개구리 /   결제은행변경</td>\n",
              "      <td>NaN</td>\n",
              "      <td>NaN</td>\n",
              "      <td>NaN</td>\n",
              "      <td>NaN</td>\n",
              "      <td>NaN</td>\n",
              "      <td>NaN</td>\n",
              "      <td>NaN</td>\n",
              "      <td>NaN</td>\n",
              "      <td>NaN</td>\n",
              "      <td>NaN</td>\n",
              "      <td>NaN</td>\n",
              "    </tr>\n",
              "    <tr>\n",
              "      <th>3</th>\n",
              "      <td>결제(입금)확인일</td>\n",
              "      <td>NaN</td>\n",
              "      <td>2022-01-11 20:40:42</td>\n",
              "      <td>NaN</td>\n",
              "      <td>NaN</td>\n",
              "      <td>NaN</td>\n",
              "      <td>NaN</td>\n",
              "      <td>NaN</td>\n",
              "      <td>입금확인정보</td>\n",
              "      <td>NaN</td>\n",
              "      <td>NaN</td>\n",
              "      <td>127.0.0.1:54304</td>\n",
              "      <td>NaN</td>\n",
              "      <td>NaN</td>\n",
              "    </tr>\n",
              "    <tr>\n",
              "      <th>4</th>\n",
              "      <td>환불 정보</td>\n",
              "      <td>NaN</td>\n",
              "      <td>NaN</td>\n",
              "      <td>NaN</td>\n",
              "      <td>NaN</td>\n",
              "      <td>NaN</td>\n",
              "      <td>NaN</td>\n",
              "      <td>NaN</td>\n",
              "      <td>NaN</td>\n",
              "      <td>NaN</td>\n",
              "      <td>NaN</td>\n",
              "      <td>NaN</td>\n",
              "      <td>NaN</td>\n",
              "      <td>NaN</td>\n",
              "    </tr>\n",
              "  </tbody>\n",
              "</table>\n",
              "</div>\n",
              "      <button class=\"colab-df-convert\" onclick=\"convertToInteractive('df-fee81ad4-5f0b-4ec9-87d0-ee481f3dd5ae')\"\n",
              "              title=\"Convert this dataframe to an interactive table.\"\n",
              "              style=\"display:none;\">\n",
              "        \n",
              "  <svg xmlns=\"http://www.w3.org/2000/svg\" height=\"24px\"viewBox=\"0 0 24 24\"\n",
              "       width=\"24px\">\n",
              "    <path d=\"M0 0h24v24H0V0z\" fill=\"none\"/>\n",
              "    <path d=\"M18.56 5.44l.94 2.06.94-2.06 2.06-.94-2.06-.94-.94-2.06-.94 2.06-2.06.94zm-11 1L8.5 8.5l.94-2.06 2.06-.94-2.06-.94L8.5 2.5l-.94 2.06-2.06.94zm10 10l.94 2.06.94-2.06 2.06-.94-2.06-.94-.94-2.06-.94 2.06-2.06.94z\"/><path d=\"M17.41 7.96l-1.37-1.37c-.4-.4-.92-.59-1.43-.59-.52 0-1.04.2-1.43.59L10.3 9.45l-7.72 7.72c-.78.78-.78 2.05 0 2.83L4 21.41c.39.39.9.59 1.41.59.51 0 1.02-.2 1.41-.59l7.78-7.78 2.81-2.81c.8-.78.8-2.07 0-2.86zM5.41 20L4 18.59l7.72-7.72 1.47 1.35L5.41 20z\"/>\n",
              "  </svg>\n",
              "      </button>\n",
              "      \n",
              "  <style>\n",
              "    .colab-df-container {\n",
              "      display:flex;\n",
              "      flex-wrap:wrap;\n",
              "      gap: 12px;\n",
              "    }\n",
              "\n",
              "    .colab-df-convert {\n",
              "      background-color: #E8F0FE;\n",
              "      border: none;\n",
              "      border-radius: 50%;\n",
              "      cursor: pointer;\n",
              "      display: none;\n",
              "      fill: #1967D2;\n",
              "      height: 32px;\n",
              "      padding: 0 0 0 0;\n",
              "      width: 32px;\n",
              "    }\n",
              "\n",
              "    .colab-df-convert:hover {\n",
              "      background-color: #E2EBFA;\n",
              "      box-shadow: 0px 1px 2px rgba(60, 64, 67, 0.3), 0px 1px 3px 1px rgba(60, 64, 67, 0.15);\n",
              "      fill: #174EA6;\n",
              "    }\n",
              "\n",
              "    [theme=dark] .colab-df-convert {\n",
              "      background-color: #3B4455;\n",
              "      fill: #D2E3FC;\n",
              "    }\n",
              "\n",
              "    [theme=dark] .colab-df-convert:hover {\n",
              "      background-color: #434B5C;\n",
              "      box-shadow: 0px 1px 3px 1px rgba(0, 0, 0, 0.15);\n",
              "      filter: drop-shadow(0px 1px 2px rgba(0, 0, 0, 0.3));\n",
              "      fill: #FFFFFF;\n",
              "    }\n",
              "  </style>\n",
              "\n",
              "      <script>\n",
              "        const buttonEl =\n",
              "          document.querySelector('#df-fee81ad4-5f0b-4ec9-87d0-ee481f3dd5ae button.colab-df-convert');\n",
              "        buttonEl.style.display =\n",
              "          google.colab.kernel.accessAllowed ? 'block' : 'none';\n",
              "\n",
              "        async function convertToInteractive(key) {\n",
              "          const element = document.querySelector('#df-fee81ad4-5f0b-4ec9-87d0-ee481f3dd5ae');\n",
              "          const dataTable =\n",
              "            await google.colab.kernel.invokeFunction('convertToInteractive',\n",
              "                                                     [key], {});\n",
              "          if (!dataTable) return;\n",
              "\n",
              "          const docLinkHtml = 'Like what you see? Visit the ' +\n",
              "            '<a target=\"_blank\" href=https://colab.research.google.com/notebooks/data_table.ipynb>data table notebook</a>'\n",
              "            + ' to learn more about interactive tables.';\n",
              "          element.innerHTML = '';\n",
              "          dataTable['output_type'] = 'display_data';\n",
              "          await google.colab.output.renderOutput(dataTable, element);\n",
              "          const docLink = document.createElement('div');\n",
              "          docLink.innerHTML = docLinkHtml;\n",
              "          element.appendChild(docLink);\n",
              "        }\n",
              "      </script>\n",
              "    </div>\n",
              "  </div>\n",
              "  "
            ]
          },
          "metadata": {},
          "execution_count": 38
        }
      ]
    },
    {
      "cell_type": "code",
      "source": [
        "# p = /^[0-9]{3}[-]+[0-9]{4}[-]+[0-9]{4}$/"
      ],
      "metadata": {
        "id": "XGCJLbUeawAH",
        "colab": {
          "base_uri": "https://localhost:8080/",
          "height": 137
        },
        "outputId": "0355eef2-85fa-447e-9148-92bbf1eba202"
      },
      "execution_count": 39,
      "outputs": [
        {
          "output_type": "error",
          "ename": "SyntaxError",
          "evalue": "ignored",
          "traceback": [
            "\u001b[0;36m  File \u001b[0;32m\"<ipython-input-39-d7400b070ff9>\"\u001b[0;36m, line \u001b[0;32m1\u001b[0m\n\u001b[0;31m    p = /^[0-9]{3}[-]+[0-9]{4}[-]+[0-9]{4}$/\u001b[0m\n\u001b[0m        ^\u001b[0m\n\u001b[0;31mSyntaxError\u001b[0m\u001b[0;31m:\u001b[0m invalid syntax\n"
          ]
        }
      ]
    },
    {
      "cell_type": "markdown",
      "source": [
        "  정규 필터식\t의미\n",
        "\n",
        "\n",
        "\n",
        "  \\w\t한 글자\n",
        "\n",
        "\n",
        "  \\w+\t한 단어\n",
        "\n",
        "  \\d\t정수 1자리\n",
        "\n",
        "  \\d+\t정수 전체\n",
        "\n",
        "  \\s\t공백 한칸\n",
        "\n",
        "  \\s+\t공백 전체\n",
        "\n",
        "  \\특수문자\t특수문자 구분"
      ],
      "metadata": {
        "id": "IUgpqquma4iG"
      }
    },
    {
      "cell_type": "code",
      "source": [
        "# p = '\\d{3}s?-?\\d{4}\\s?-?\\d{4}'"
      ],
      "metadata": {
        "id": "ZyH3WhMTbaSO"
      },
      "execution_count": 40,
      "outputs": []
    },
    {
      "cell_type": "code",
      "source": [
        "p = r'\\b[A-Za-z0-9._%+-]+@[A-Za-z0-9.-]+\\.[A-Za-z]{2,}\\b'  # 이메일 패턴"
      ],
      "metadata": {
        "id": "mLZ0KKopjH3J"
      },
      "execution_count": 46,
      "outputs": []
    },
    {
      "cell_type": "code",
      "source": [
        "phone_num = []"
      ],
      "metadata": {
        "id": "xWic40SwgYSK"
      },
      "execution_count": 47,
      "outputs": []
    },
    {
      "cell_type": "code",
      "source": [
        "for index, row in df.iterrows():\n",
        "  list_index = df.iloc[index].tolist()\n",
        "  for i in list_index:\n",
        "    # print(i, type(i))\n",
        "    if type(i) is str:\n",
        "      # print('Yes: {0}'.format(i))\n",
        "      m = re.match(pattern=p, string=i)\n",
        "      if m:\n",
        "        print(\"나 이메일이야!!!: {0}\\n\".format(i))\n",
        "        phone_num.append(i)"
      ],
      "metadata": {
        "id": "3CfD7FMdb_Ki",
        "colab": {
          "base_uri": "https://localhost:8080/"
        },
        "outputId": "d0fecdd4-46b8-4d38-d4b1-916c121e225f"
      },
      "execution_count": 48,
      "outputs": [
        {
          "output_type": "stream",
          "name": "stdout",
          "text": [
            "나 이메일이야!!!: oooo@naver.com\n",
            "\n"
          ]
        }
      ]
    },
    {
      "cell_type": "code",
      "source": [
        "phone_num"
      ],
      "metadata": {
        "id": "vrElmSMYgiLB",
        "colab": {
          "base_uri": "https://localhost:8080/"
        },
        "outputId": "3b18bc14-52c3-4b31-b863-723b22534fb0"
      },
      "execution_count": 49,
      "outputs": [
        {
          "output_type": "execute_result",
          "data": {
            "text/plain": [
              "['oooo@naver.com']"
            ]
          },
          "metadata": {},
          "execution_count": 49
        }
      ]
    },
    {
      "cell_type": "code",
      "source": [
        "set_num = set(phone_num)"
      ],
      "metadata": {
        "id": "g9OO1my-gypf"
      },
      "execution_count": 50,
      "outputs": []
    },
    {
      "cell_type": "code",
      "source": [
        "set_num"
      ],
      "metadata": {
        "id": "vSgAXwKLhOGO",
        "colab": {
          "base_uri": "https://localhost:8080/"
        },
        "outputId": "29587b37-45ff-4027-f7f3-83419a2b4fb5"
      },
      "execution_count": 51,
      "outputs": [
        {
          "output_type": "execute_result",
          "data": {
            "text/plain": [
              "{'oooo@naver.com'}"
            ]
          },
          "metadata": {},
          "execution_count": 51
        }
      ]
    },
    {
      "cell_type": "code",
      "source": [
        "phone_num = list(set_num)"
      ],
      "metadata": {
        "id": "bHnjjxuzhbD_"
      },
      "execution_count": 52,
      "outputs": []
    },
    {
      "cell_type": "code",
      "source": [
        "phone_num"
      ],
      "metadata": {
        "id": "cLXf9Wrzhg82",
        "colab": {
          "base_uri": "https://localhost:8080/"
        },
        "outputId": "343a7048-9be1-498e-f5b9-8fa123ea539c"
      },
      "execution_count": 53,
      "outputs": [
        {
          "output_type": "execute_result",
          "data": {
            "text/plain": [
              "['oooo@naver.com']"
            ]
          },
          "metadata": {},
          "execution_count": 53
        }
      ]
    },
    {
      "cell_type": "code",
      "source": [],
      "metadata": {
        "id": "VxMwmnTLjRoQ"
      },
      "execution_count": null,
      "outputs": []
    }
  ]
}